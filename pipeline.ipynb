{
 "metadata": {
  "language_info": {
   "codemirror_mode": {
    "name": "ipython",
    "version": 3
   },
   "file_extension": ".py",
   "mimetype": "text/x-python",
   "name": "python",
   "nbconvert_exporter": "python",
   "pygments_lexer": "ipython3",
   "version": "3.7.6-final"
  },
  "orig_nbformat": 2,
  "kernelspec": {
   "name": "python37664bitbasecondab8a2a0b1ed86479d9f777b0a8cf633d1",
   "display_name": "Python 3.7.6 64-bit ('base': conda)",
   "language": "python"
  }
 },
 "nbformat": 4,
 "nbformat_minor": 2,
 "cells": [
  {
   "cell_type": "code",
   "execution_count": 2,
   "metadata": {},
   "outputs": [
    {
     "output_type": "stream",
     "name": "stdout",
     "text": [
      "Collecting ogb\n",
      "  Using cached ogb-1.2.4-py3-none-any.whl (58 kB)\n",
      "Requirement already satisfied, skipping upgrade: six>=1.12.0 in /opt/anaconda3/lib/python3.7/site-packages (from ogb) (1.12.0)\n",
      "Requirement already satisfied, skipping upgrade: tqdm>=4.29.0 in /opt/anaconda3/lib/python3.7/site-packages (from ogb) (4.41.1)\n",
      "Requirement already satisfied, skipping upgrade: numpy>=1.16.0 in /opt/anaconda3/lib/python3.7/site-packages (from ogb) (1.17.2)\n",
      "Requirement already satisfied, skipping upgrade: urllib3>=1.24.0 in /opt/anaconda3/lib/python3.7/site-packages (from ogb) (1.24.2)\n",
      "Processing /Users/simon/Library/Caches/pip/wheels/6f/cd/a2/e49170b2cf59e88b952f3414f25a54d9f16f033bded4aaab26/outdated-0.2.0-py3-none-any.whl\n",
      "Requirement already satisfied, skipping upgrade: scikit-learn>=0.20.0 in /opt/anaconda3/lib/python3.7/site-packages (from ogb) (0.21.3)\n",
      "Requirement already satisfied, skipping upgrade: torch>=1.2.0 in /opt/anaconda3/lib/python3.7/site-packages (from ogb) (1.4.0)\n",
      "Requirement already satisfied, skipping upgrade: pandas>=0.24.0 in /opt/anaconda3/lib/python3.7/site-packages (from ogb) (0.25.1)\n",
      "Requirement already satisfied, skipping upgrade: requests in /opt/anaconda3/lib/python3.7/site-packages (from outdated>=0.2.0->ogb) (2.22.0)\n",
      "Processing /Users/simon/Library/Caches/pip/wheels/d6/64/cd/32819b511a488e4993f2fab909a95330289c3f4e0f6ef4676d/littleutils-0.2.2-py3-none-any.whl\n",
      "Requirement already satisfied, skipping upgrade: joblib>=0.11 in /opt/anaconda3/lib/python3.7/site-packages (from scikit-learn>=0.20.0->ogb) (0.13.2)\n",
      "Requirement already satisfied, skipping upgrade: scipy>=0.17.0 in /opt/anaconda3/lib/python3.7/site-packages (from scikit-learn>=0.20.0->ogb) (1.4.1)\n",
      "Requirement already satisfied, skipping upgrade: pytz>=2017.2 in /opt/anaconda3/lib/python3.7/site-packages (from pandas>=0.24.0->ogb) (2019.3)\n",
      "Requirement already satisfied, skipping upgrade: python-dateutil>=2.6.1 in /opt/anaconda3/lib/python3.7/site-packages (from pandas>=0.24.0->ogb) (2.8.0)\n",
      "Requirement already satisfied, skipping upgrade: certifi>=2017.4.17 in /opt/anaconda3/lib/python3.7/site-packages (from requests->outdated>=0.2.0->ogb) (2019.9.11)\n",
      "Requirement already satisfied, skipping upgrade: idna<2.9,>=2.5 in /opt/anaconda3/lib/python3.7/site-packages (from requests->outdated>=0.2.0->ogb) (2.8)\n",
      "Requirement already satisfied, skipping upgrade: chardet<3.1.0,>=3.0.2 in /opt/anaconda3/lib/python3.7/site-packages (from requests->outdated>=0.2.0->ogb) (3.0.4)\n",
      "Installing collected packages: littleutils, outdated, ogb\n",
      "Successfully installed littleutils-0.2.2 ogb-1.2.4 outdated-0.2.0\n",
      "\u001b[33mWARNING: You are using pip version 20.1.1; however, version 21.0.1 is available.\n",
      "You should consider upgrading via the '/opt/anaconda3/bin/python -m pip install --upgrade pip' command.\u001b[0m\n"
     ]
    }
   ],
   "source": [
    "!pip install -U ogb\n",
    "\n",
    "#python 3.7 and rdkit too!!!"
   ]
  },
  {
   "cell_type": "code",
   "execution_count": 4,
   "metadata": {},
   "outputs": [
    {
     "output_type": "execute_result",
     "data": {
      "text/plain": [
       "                                              Smiles  label\n",
       "0  CC(C)Oc1cc(Oc2ccc(S(C)(=O)=O)cc2)cc(-c2ncc(Cl)...    2.0\n",
       "1  CNS(=O)(=O)c1ccc(Oc2cc(OC(C)C)cc(-c3nccc(=O)[n...    2.6\n",
       "2  CC(C)Oc1cc(Oc2cnc(C(=O)N(C)C)c(F)c2)cc(-c2nccc...    1.5\n",
       "3  CC(C)Oc1cc(Oc2cnc(C(=O)N(C)C)cn2)cc(-c2nccc(=O...    1.3\n",
       "4  CCC(CC)Oc1cc(Oc2cnc(C(=O)N(C)C)nc2)cc(-c2nccc(...    1.9"
      ],
      "text/html": "<div>\n<style scoped>\n    .dataframe tbody tr th:only-of-type {\n        vertical-align: middle;\n    }\n\n    .dataframe tbody tr th {\n        vertical-align: top;\n    }\n\n    .dataframe thead th {\n        text-align: right;\n    }\n</style>\n<table border=\"1\" class=\"dataframe\">\n  <thead>\n    <tr style=\"text-align: right;\">\n      <th></th>\n      <th>Smiles</th>\n      <th>label</th>\n    </tr>\n  </thead>\n  <tbody>\n    <tr>\n      <th>0</th>\n      <td>CC(C)Oc1cc(Oc2ccc(S(C)(=O)=O)cc2)cc(-c2ncc(Cl)...</td>\n      <td>2.0</td>\n    </tr>\n    <tr>\n      <th>1</th>\n      <td>CNS(=O)(=O)c1ccc(Oc2cc(OC(C)C)cc(-c3nccc(=O)[n...</td>\n      <td>2.6</td>\n    </tr>\n    <tr>\n      <th>2</th>\n      <td>CC(C)Oc1cc(Oc2cnc(C(=O)N(C)C)c(F)c2)cc(-c2nccc...</td>\n      <td>1.5</td>\n    </tr>\n    <tr>\n      <th>3</th>\n      <td>CC(C)Oc1cc(Oc2cnc(C(=O)N(C)C)cn2)cc(-c2nccc(=O...</td>\n      <td>1.3</td>\n    </tr>\n    <tr>\n      <th>4</th>\n      <td>CCC(CC)Oc1cc(Oc2cnc(C(=O)N(C)C)nc2)cc(-c2nccc(...</td>\n      <td>1.9</td>\n    </tr>\n  </tbody>\n</table>\n</div>"
     },
     "metadata": {},
     "execution_count": 4
    }
   ],
   "source": [
    "import pandas as pd\n",
    "train_df =  pd.read_csv('data/train.csv')\n",
    "test_df = pd.read_csv('data/test.csv')\n",
    "\n",
    "train_df.head()"
   ]
  },
  {
   "cell_type": "code",
   "execution_count": 25,
   "metadata": {},
   "outputs": [
    {
     "output_type": "display_data",
     "data": {
      "text/plain": "HBox(children=(FloatProgress(value=0.0, max=3829.0), HTML(value='')))",
      "application/vnd.jupyter.widget-view+json": {
       "version_major": 2,
       "version_minor": 0,
       "model_id": "5a33f400b6614da986ae91539e036203"
      }
     },
     "metadata": {}
    },
    {
     "output_type": "stream",
     "name": "stdout",
     "text": [
      "\n"
     ]
    }
   ],
   "source": [
    "import rdkit\n",
    "from tqdm.notebook import trange, tqdm\n",
    "from ogb.utils import smiles2graph\n",
    "\n",
    "tqdm.pandas('Converting SMILES to molecular graph...')\n",
    "train_df['graph'] = train_df.progress_apply(lambda row: smiles2graph(row['Smiles']),axis=1)"
   ]
  },
  {
   "cell_type": "code",
   "execution_count": 26,
   "metadata": {},
   "outputs": [
    {
     "output_type": "display_data",
     "data": {
      "text/plain": "HBox(children=(FloatProgress(value=0.0, max=141.0), HTML(value='')))",
      "application/vnd.jupyter.widget-view+json": {
       "version_major": 2,
       "version_minor": 0,
       "model_id": "b7ab1938f7b648758f3b5346b76957bd"
      }
     },
     "metadata": {}
    },
    {
     "output_type": "stream",
     "name": "stdout",
     "text": [
      "\n"
     ]
    }
   ],
   "source": [
    "test_df['graph']=test_df.progress_apply(lambda row: smiles2graph(row['Smiles']),axis=1)"
   ]
  },
  {
   "cell_type": "code",
   "execution_count": 17,
   "metadata": {},
   "outputs": [
    {
     "output_type": "execute_result",
     "data": {
      "text/plain": [
       "                                              Smiles  label  \\\n",
       "1537  COc1ccccc1N1CCN(CCN(C(=O)C2CCCCC2)c2ccccn2)CC1    3.0   \n",
       "\n",
       "                                                  graph  \n",
       "1537  {'edge_index': [[0, 1, 1, 2, 2, 3, 3, 4, 4, 5,...  "
      ],
      "text/html": "<div>\n<style scoped>\n    .dataframe tbody tr th:only-of-type {\n        vertical-align: middle;\n    }\n\n    .dataframe tbody tr th {\n        vertical-align: top;\n    }\n\n    .dataframe thead th {\n        text-align: right;\n    }\n</style>\n<table border=\"1\" class=\"dataframe\">\n  <thead>\n    <tr style=\"text-align: right;\">\n      <th></th>\n      <th>Smiles</th>\n      <th>label</th>\n      <th>graph</th>\n    </tr>\n  </thead>\n  <tbody>\n    <tr>\n      <th>1537</th>\n      <td>COc1ccccc1N1CCN(CCN(C(=O)C2CCCCC2)c2ccccn2)CC1</td>\n      <td>3.0</td>\n      <td>{'edge_index': [[0, 1, 1, 2, 2, 3, 3, 4, 4, 5,...</td>\n    </tr>\n  </tbody>\n</table>\n</div>"
     },
     "metadata": {},
     "execution_count": 17
    }
   ],
   "source": [
    "row = train_df.sample(1)\n",
    "row"
   ]
  },
  {
   "cell_type": "code",
   "execution_count": 24,
   "metadata": {},
   "outputs": [
    {
     "output_type": "stream",
     "name": "stdout",
     "text": [
      "[{'edge_index': array([[ 0,  1,  1,  2,  2,  3,  3,  4,  4,  5,  5,  6,  6,  7,  7,  8,\n         8,  9,  9, 10, 10, 11, 11, 12, 12, 13, 13, 14, 14, 15, 15, 16,\n        15, 17, 17, 18, 18, 19, 19, 20, 20, 21, 21, 22, 14, 23, 23, 24,\n        24, 25, 25, 26, 26, 27, 27, 28, 11, 29, 29, 30,  7,  2, 30,  8,\n        22, 17, 28, 23],\n       [ 1,  0,  2,  1,  3,  2,  4,  3,  5,  4,  6,  5,  7,  6,  8,  7,\n         9,  8, 10,  9, 11, 10, 12, 11, 13, 12, 14, 13, 15, 14, 16, 15,\n        17, 15, 18, 17, 19, 18, 20, 19, 21, 20, 22, 21, 23, 14, 24, 23,\n        25, 24, 26, 25, 27, 26, 28, 27, 29, 11, 30, 29,  2,  7,  8, 30,\n        17, 22, 23, 28]]), 'edge_feat': array([[0, 0, 0],\n       [0, 0, 0],\n       [0, 0, 1],\n       [0, 0, 1],\n       [3, 0, 1],\n       [3, 0, 1],\n       [3, 0, 1],\n       [3, 0, 1],\n       [3, 0, 1],\n       [3, 0, 1],\n       [3, 0, 1],\n       [3, 0, 1],\n       [3, 0, 1],\n       [3, 0, 1],\n       [0, 0, 1],\n       [0, 0, 1],\n       [0, 0, 0],\n       [0, 0, 0],\n       [0, 0, 0],\n       [0, 0, 0],\n       [0, 0, 0],\n       [0, 0, 0],\n       [0, 0, 0],\n       [0, 0, 0],\n       [0, 0, 0],\n       [0, 0, 0],\n       [0, 0, 0],\n       [0, 0, 0],\n       [0, 0, 1],\n       [0, 0, 1],\n       [1, 0, 1],\n       [1, 0, 1],\n       [0, 0, 0],\n       [0, 0, 0],\n       [0, 0, 0],\n       [0, 0, 0],\n       [0, 0, 0],\n       [0, 0, 0],\n       [0, 0, 0],\n       [0, 0, 0],\n       [0, 0, 0],\n       [0, 0, 0],\n       [0, 0, 0],\n       [0, 0, 0],\n       [0, 0, 1],\n       [0, 0, 1],\n       [3, 0, 1],\n       [3, 0, 1],\n       [3, 0, 1],\n       [3, 0, 1],\n       [3, 0, 1],\n       [3, 0, 1],\n       [3, 0, 1],\n       [3, 0, 1],\n       [3, 0, 1],\n       [3, 0, 1],\n       [0, 0, 0],\n       [0, 0, 0],\n       [0, 0, 0],\n       [0, 0, 0],\n       [3, 0, 1],\n       [3, 0, 1],\n       [0, 0, 0],\n       [0, 0, 0],\n       [0, 0, 0],\n       [0, 0, 0],\n       [3, 0, 1],\n       [3, 0, 1]]), 'node_feat': array([[5, 0, 4, 5, 3, 0, 2, 0, 0],\n       [7, 0, 2, 5, 0, 0, 1, 0, 0],\n       [5, 0, 3, 5, 0, 0, 1, 1, 1],\n       [5, 0, 3, 5, 1, 0, 1, 1, 1],\n       [5, 0, 3, 5, 1, 0, 1, 1, 1],\n       [5, 0, 3, 5, 1, 0, 1, 1, 1],\n       [5, 0, 3, 5, 1, 0, 1, 1, 1],\n       [5, 0, 3, 5, 0, 0, 1, 1, 1],\n       [6, 0, 3, 5, 0, 0, 1, 0, 1],\n       [5, 0, 4, 5, 2, 0, 2, 0, 1],\n       [5, 0, 4, 5, 2, 0, 2, 0, 1],\n       [6, 0, 3, 5, 0, 0, 2, 0, 1],\n       [5, 0, 4, 5, 2, 0, 2, 0, 0],\n       [5, 0, 4, 5, 2, 0, 2, 0, 0],\n       [6, 0, 3, 5, 0, 0, 1, 0, 0],\n       [5, 0, 3, 5, 0, 0, 1, 0, 0],\n       [7, 0, 1, 5, 0, 0, 1, 0, 0],\n       [5, 0, 4, 5, 1, 0, 2, 0, 1],\n       [5, 0, 4, 5, 2, 0, 2, 0, 1],\n       [5, 0, 4, 5, 2, 0, 2, 0, 1],\n       [5, 0, 4, 5, 2, 0, 2, 0, 1],\n       [5, 0, 4, 5, 2, 0, 2, 0, 1],\n       [5, 0, 4, 5, 2, 0, 2, 0, 1],\n       [5, 0, 3, 5, 0, 0, 1, 1, 1],\n       [5, 0, 3, 5, 1, 0, 1, 1, 1],\n       [5, 0, 3, 5, 1, 0, 1, 1, 1],\n       [5, 0, 3, 5, 1, 0, 1, 1, 1],\n       [5, 0, 3, 5, 1, 0, 1, 1, 1],\n       [6, 0, 2, 5, 0, 0, 1, 1, 1],\n       [5, 0, 4, 5, 2, 0, 2, 0, 1],\n       [5, 0, 4, 5, 2, 0, 2, 0, 1]]), 'num_nodes': 31}]\n"
     ]
    }
   ],
   "source": [
    "print(row['graph'].values)"
   ]
  },
  {
   "cell_type": "code",
   "execution_count": null,
   "metadata": {},
   "outputs": [],
   "source": []
  }
 ]
}