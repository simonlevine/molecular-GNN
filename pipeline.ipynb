{
 "metadata": {
  "language_info": {
   "codemirror_mode": {
    "name": "ipython",
    "version": 3
   },
   "file_extension": ".py",
   "mimetype": "text/x-python",
   "name": "python",
   "nbconvert_exporter": "python",
   "pygments_lexer": "ipython3",
   "version": "3.7.6-final"
  },
  "orig_nbformat": 2,
  "kernelspec": {
   "name": "python37664bitbasecondab8a2a0b1ed86479d9f777b0a8cf633d1",
   "display_name": "Python 3.7.6 64-bit ('base': conda)",
   "language": "python"
  }
 },
 "nbformat": 4,
 "nbformat_minor": 2,
 "cells": [
  {
   "cell_type": "code",
   "execution_count": null,
   "metadata": {},
   "outputs": [],
   "source": [
    "# augmenting with MoleculeNet"
   ]
  },
  {
   "cell_type": "code",
   "execution_count": 1,
   "metadata": {},
   "outputs": [
    {
     "output_type": "execute_result",
     "data": {
      "text/plain": [
       "                                              Smiles  label\n",
       "0  CC(C)Oc1cc(Oc2ccc(S(C)(=O)=O)cc2)cc(-c2ncc(Cl)...    2.0\n",
       "1  CNS(=O)(=O)c1ccc(Oc2cc(OC(C)C)cc(-c3nccc(=O)[n...    2.6\n",
       "2  CC(C)Oc1cc(Oc2cnc(C(=O)N(C)C)c(F)c2)cc(-c2nccc...    1.5\n",
       "3  CC(C)Oc1cc(Oc2cnc(C(=O)N(C)C)cn2)cc(-c2nccc(=O...    1.3\n",
       "4  CCC(CC)Oc1cc(Oc2cnc(C(=O)N(C)C)nc2)cc(-c2nccc(...    1.9"
      ],
      "text/html": "<div>\n<style scoped>\n    .dataframe tbody tr th:only-of-type {\n        vertical-align: middle;\n    }\n\n    .dataframe tbody tr th {\n        vertical-align: top;\n    }\n\n    .dataframe thead th {\n        text-align: right;\n    }\n</style>\n<table border=\"1\" class=\"dataframe\">\n  <thead>\n    <tr style=\"text-align: right;\">\n      <th></th>\n      <th>Smiles</th>\n      <th>label</th>\n    </tr>\n  </thead>\n  <tbody>\n    <tr>\n      <th>0</th>\n      <td>CC(C)Oc1cc(Oc2ccc(S(C)(=O)=O)cc2)cc(-c2ncc(Cl)...</td>\n      <td>2.0</td>\n    </tr>\n    <tr>\n      <th>1</th>\n      <td>CNS(=O)(=O)c1ccc(Oc2cc(OC(C)C)cc(-c3nccc(=O)[n...</td>\n      <td>2.6</td>\n    </tr>\n    <tr>\n      <th>2</th>\n      <td>CC(C)Oc1cc(Oc2cnc(C(=O)N(C)C)c(F)c2)cc(-c2nccc...</td>\n      <td>1.5</td>\n    </tr>\n    <tr>\n      <th>3</th>\n      <td>CC(C)Oc1cc(Oc2cnc(C(=O)N(C)C)cn2)cc(-c2nccc(=O...</td>\n      <td>1.3</td>\n    </tr>\n    <tr>\n      <th>4</th>\n      <td>CCC(CC)Oc1cc(Oc2cnc(C(=O)N(C)C)nc2)cc(-c2nccc(...</td>\n      <td>1.9</td>\n    </tr>\n  </tbody>\n</table>\n</div>"
     },
     "metadata": {},
     "execution_count": 1
    }
   ],
   "source": [
    "import pandas as pd\n",
    "train_df =  pd.read_csv('data/train.csv')\n",
    "test_df = pd.read_csv('data/test.csv')\n",
    "\n",
    "train_df.head()"
   ]
  },
  {
   "cell_type": "code",
   "execution_count": 2,
   "metadata": {},
   "outputs": [
    {
     "output_type": "execute_result",
     "data": {
      "text/plain": [
       "                                                 Smiles  label\n",
       "0     CC(C)Oc1cc(Oc2ccc(S(C)(=O)=O)cc2)cc(-c2ncc(Cl)...   2.00\n",
       "1     CNS(=O)(=O)c1ccc(Oc2cc(OC(C)C)cc(-c3nccc(=O)[n...   2.60\n",
       "2     CC(C)Oc1cc(Oc2cnc(C(=O)N(C)C)c(F)c2)cc(-c2nccc...   1.50\n",
       "3     CC(C)Oc1cc(Oc2cnc(C(=O)N(C)C)cn2)cc(-c2nccc(=O...   1.30\n",
       "4     CCC(CC)Oc1cc(Oc2cnc(C(=O)N(C)C)nc2)cc(-c2nccc(...   1.90\n",
       "...                                                 ...    ...\n",
       "3824  CCC(C)C(N)C(=O)NC(C(=O)NCC(=O)NC(Cc1ccccc1)C(=...  -0.99\n",
       "3825  CCC(C)C(N)C(=O)NC(C)C(=O)NC(C)C(=O)NC(C(=O)O)C...  -2.82\n",
       "3826  NC(Cc1ccccc1)C(=O)NC(Cc1ccccc1)C(=O)NCC(=O)NC(...   0.17\n",
       "3827  CC(C)CC(NC(=O)C(NC(=O)C(CC(C)C)NC(=O)C(N)C(C)C...  -1.23\n",
       "3828  CC(C)CC(NC(=O)C(N)Cc1c[nH]c2ccccc12)C(=O)NC(CC...   0.23\n",
       "\n",
       "[3829 rows x 2 columns]"
      ],
      "text/html": "<div>\n<style scoped>\n    .dataframe tbody tr th:only-of-type {\n        vertical-align: middle;\n    }\n\n    .dataframe tbody tr th {\n        vertical-align: top;\n    }\n\n    .dataframe thead th {\n        text-align: right;\n    }\n</style>\n<table border=\"1\" class=\"dataframe\">\n  <thead>\n    <tr style=\"text-align: right;\">\n      <th></th>\n      <th>Smiles</th>\n      <th>label</th>\n    </tr>\n  </thead>\n  <tbody>\n    <tr>\n      <th>0</th>\n      <td>CC(C)Oc1cc(Oc2ccc(S(C)(=O)=O)cc2)cc(-c2ncc(Cl)...</td>\n      <td>2.00</td>\n    </tr>\n    <tr>\n      <th>1</th>\n      <td>CNS(=O)(=O)c1ccc(Oc2cc(OC(C)C)cc(-c3nccc(=O)[n...</td>\n      <td>2.60</td>\n    </tr>\n    <tr>\n      <th>2</th>\n      <td>CC(C)Oc1cc(Oc2cnc(C(=O)N(C)C)c(F)c2)cc(-c2nccc...</td>\n      <td>1.50</td>\n    </tr>\n    <tr>\n      <th>3</th>\n      <td>CC(C)Oc1cc(Oc2cnc(C(=O)N(C)C)cn2)cc(-c2nccc(=O...</td>\n      <td>1.30</td>\n    </tr>\n    <tr>\n      <th>4</th>\n      <td>CCC(CC)Oc1cc(Oc2cnc(C(=O)N(C)C)nc2)cc(-c2nccc(...</td>\n      <td>1.90</td>\n    </tr>\n    <tr>\n      <th>...</th>\n      <td>...</td>\n      <td>...</td>\n    </tr>\n    <tr>\n      <th>3824</th>\n      <td>CCC(C)C(N)C(=O)NC(C(=O)NCC(=O)NC(Cc1ccccc1)C(=...</td>\n      <td>-0.99</td>\n    </tr>\n    <tr>\n      <th>3825</th>\n      <td>CCC(C)C(N)C(=O)NC(C)C(=O)NC(C)C(=O)NC(C(=O)O)C...</td>\n      <td>-2.82</td>\n    </tr>\n    <tr>\n      <th>3826</th>\n      <td>NC(Cc1ccccc1)C(=O)NC(Cc1ccccc1)C(=O)NCC(=O)NC(...</td>\n      <td>0.17</td>\n    </tr>\n    <tr>\n      <th>3827</th>\n      <td>CC(C)CC(NC(=O)C(NC(=O)C(CC(C)C)NC(=O)C(N)C(C)C...</td>\n      <td>-1.23</td>\n    </tr>\n    <tr>\n      <th>3828</th>\n      <td>CC(C)CC(NC(=O)C(N)Cc1c[nH]c2ccccc12)C(=O)NC(CC...</td>\n      <td>0.23</td>\n    </tr>\n  </tbody>\n</table>\n<p>3829 rows × 2 columns</p>\n</div>"
     },
     "metadata": {},
     "execution_count": 2
    }
   ],
   "source": [
    "train_df"
   ]
  },
  {
   "cell_type": "code",
   "execution_count": 3,
   "metadata": {},
   "outputs": [
    {
     "output_type": "display_data",
     "data": {
      "text/plain": "HBox(children=(FloatProgress(value=0.0, max=3829.0), HTML(value='')))",
      "application/vnd.jupyter.widget-view+json": {
       "version_major": 2,
       "version_minor": 0,
       "model_id": "5bfba0d7328b4f8b8ff174eeefd42693"
      }
     },
     "metadata": {}
    },
    {
     "output_type": "stream",
     "name": "stdout",
     "text": [
      "\n"
     ]
    }
   ],
   "source": [
    "import rdkit\n",
    "from tqdm.notebook import trange, tqdm\n",
    "from ogb.utils import smiles2graph\n",
    "\n",
    "tqdm.pandas('Converting SMILES to molecular graph...')\n",
    "train_df['graph'] = train_df.progress_apply(lambda row: smiles2graph(row['Smiles']),axis=1)"
   ]
  },
  {
   "cell_type": "code",
   "execution_count": 4,
   "metadata": {},
   "outputs": [
    {
     "output_type": "display_data",
     "data": {
      "text/plain": "HBox(children=(FloatProgress(value=0.0, max=141.0), HTML(value='')))",
      "application/vnd.jupyter.widget-view+json": {
       "version_major": 2,
       "version_minor": 0,
       "model_id": "bcf20ee82b254ee3a49768e0728ad8d6"
      }
     },
     "metadata": {}
    },
    {
     "output_type": "stream",
     "name": "stdout",
     "text": [
      "\n"
     ]
    }
   ],
   "source": [
    "test_df['graph']=test_df.progress_apply(lambda row: smiles2graph(row['Smiles']),axis=1)"
   ]
  },
  {
   "cell_type": "code",
   "execution_count": 5,
   "metadata": {},
   "outputs": [
    {
     "output_type": "execute_result",
     "data": {
      "text/plain": [
       "                                                Smiles  label  \\\n",
       "471  CCCSc1nc(NC2CC2c2ccccc2)c2nnn(C3CC(C(N)=O)C(O)...   2.05   \n",
       "\n",
       "                                                 graph  \n",
       "471  {'edge_index': [[0, 1, 1, 2, 2, 3, 3, 4, 4, 5,...  "
      ],
      "text/html": "<div>\n<style scoped>\n    .dataframe tbody tr th:only-of-type {\n        vertical-align: middle;\n    }\n\n    .dataframe tbody tr th {\n        vertical-align: top;\n    }\n\n    .dataframe thead th {\n        text-align: right;\n    }\n</style>\n<table border=\"1\" class=\"dataframe\">\n  <thead>\n    <tr style=\"text-align: right;\">\n      <th></th>\n      <th>Smiles</th>\n      <th>label</th>\n      <th>graph</th>\n    </tr>\n  </thead>\n  <tbody>\n    <tr>\n      <th>471</th>\n      <td>CCCSc1nc(NC2CC2c2ccccc2)c2nnn(C3CC(C(N)=O)C(O)...</td>\n      <td>2.05</td>\n      <td>{'edge_index': [[0, 1, 1, 2, 2, 3, 3, 4, 4, 5,...</td>\n    </tr>\n  </tbody>\n</table>\n</div>"
     },
     "metadata": {},
     "execution_count": 5
    }
   ],
   "source": [
    "row = train_df.sample(1)\n",
    "row"
   ]
  },
  {
   "cell_type": "code",
   "execution_count": 6,
   "metadata": {},
   "outputs": [],
   "source": [
    "extra_df = pd.read_csv('data/extra_Lipophilicity.csv', usecols=['exp','smiles']).rename(columns={'smiles':'Smiles','exp': 'label'})"
   ]
  },
  {
   "cell_type": "code",
   "execution_count": 7,
   "metadata": {},
   "outputs": [
    {
     "output_type": "display_data",
     "data": {
      "text/plain": "HBox(children=(FloatProgress(value=0.0, max=4200.0), HTML(value='')))",
      "application/vnd.jupyter.widget-view+json": {
       "version_major": 2,
       "version_minor": 0,
       "model_id": "977b1798779c46339b905ed7a0a48d81"
      }
     },
     "metadata": {}
    },
    {
     "output_type": "stream",
     "name": "stdout",
     "text": [
      "\n"
     ]
    },
    {
     "output_type": "execute_result",
     "data": {
      "text/plain": [
       "      label                                             Smiles  \\\n",
       "0      3.54            Cn1c(CN2CCN(CC2)c3ccc(Cl)cc3)nc4ccccc14   \n",
       "1     -1.18  COc1cc(OC)c(cc1NC(=O)CSCC(=O)O)S(=O)(=O)N2C(C)...   \n",
       "2      3.69             COC(=O)[C@@H](N1CCc2sccc2C1)c3ccccc3Cl   \n",
       "3      3.37  OC[C@H](O)CN1C(=O)C(Cc2ccccc12)NC(=O)c3cc4cc(C...   \n",
       "4      3.10  Cc1cccc(C[C@H](NC(=O)c2cc(nn2C)C(C)(C)C)C(=O)N...   \n",
       "...     ...                                                ...   \n",
       "4195   3.85            OCCc1ccc(NC(=O)c2cc3cc(Cl)ccc3[nH]2)cc1   \n",
       "4196   3.21  CCN(C1CCN(CCC(c2ccc(F)cc2)c3ccc(F)cc3)CC1)C(=O...   \n",
       "4197   2.10                                 COc1cccc2[nH]ncc12   \n",
       "4198   2.65                    Clc1ccc2ncccc2c1C(=O)NCC3CCCCC3   \n",
       "4199   2.70                 CN1C(=O)C=C(CCc2ccc3ccccc3c2)N=C1N   \n",
       "\n",
       "                                                  graph  \n",
       "0     {'edge_index': [[0, 1, 1, 2, 2, 3, 3, 4, 4, 5,...  \n",
       "1     {'edge_index': [[0, 1, 1, 2, 2, 3, 3, 4, 4, 5,...  \n",
       "2     {'edge_index': [[0, 1, 1, 2, 2, 3, 2, 4, 4, 5,...  \n",
       "3     {'edge_index': [[0, 1, 1, 2, 2, 3, 2, 4, 4, 5,...  \n",
       "4     {'edge_index': [[0, 1, 1, 2, 2, 3, 3, 4, 4, 5,...  \n",
       "...                                                 ...  \n",
       "4195  {'edge_index': [[0, 1, 1, 2, 2, 3, 3, 4, 4, 5,...  \n",
       "4196  {'edge_index': [[0, 1, 1, 2, 2, 3, 3, 4, 4, 5,...  \n",
       "4197  {'edge_index': [[0, 1, 1, 2, 2, 3, 3, 4, 4, 5,...  \n",
       "4198  {'edge_index': [[0, 1, 1, 2, 2, 3, 3, 4, 4, 5,...  \n",
       "4199  {'edge_index': [[0, 1, 1, 2, 2, 3, 2, 4, 4, 5,...  \n",
       "\n",
       "[4200 rows x 3 columns]"
      ],
      "text/html": "<div>\n<style scoped>\n    .dataframe tbody tr th:only-of-type {\n        vertical-align: middle;\n    }\n\n    .dataframe tbody tr th {\n        vertical-align: top;\n    }\n\n    .dataframe thead th {\n        text-align: right;\n    }\n</style>\n<table border=\"1\" class=\"dataframe\">\n  <thead>\n    <tr style=\"text-align: right;\">\n      <th></th>\n      <th>label</th>\n      <th>Smiles</th>\n      <th>graph</th>\n    </tr>\n  </thead>\n  <tbody>\n    <tr>\n      <th>0</th>\n      <td>3.54</td>\n      <td>Cn1c(CN2CCN(CC2)c3ccc(Cl)cc3)nc4ccccc14</td>\n      <td>{'edge_index': [[0, 1, 1, 2, 2, 3, 3, 4, 4, 5,...</td>\n    </tr>\n    <tr>\n      <th>1</th>\n      <td>-1.18</td>\n      <td>COc1cc(OC)c(cc1NC(=O)CSCC(=O)O)S(=O)(=O)N2C(C)...</td>\n      <td>{'edge_index': [[0, 1, 1, 2, 2, 3, 3, 4, 4, 5,...</td>\n    </tr>\n    <tr>\n      <th>2</th>\n      <td>3.69</td>\n      <td>COC(=O)[C@@H](N1CCc2sccc2C1)c3ccccc3Cl</td>\n      <td>{'edge_index': [[0, 1, 1, 2, 2, 3, 2, 4, 4, 5,...</td>\n    </tr>\n    <tr>\n      <th>3</th>\n      <td>3.37</td>\n      <td>OC[C@H](O)CN1C(=O)C(Cc2ccccc12)NC(=O)c3cc4cc(C...</td>\n      <td>{'edge_index': [[0, 1, 1, 2, 2, 3, 2, 4, 4, 5,...</td>\n    </tr>\n    <tr>\n      <th>4</th>\n      <td>3.10</td>\n      <td>Cc1cccc(C[C@H](NC(=O)c2cc(nn2C)C(C)(C)C)C(=O)N...</td>\n      <td>{'edge_index': [[0, 1, 1, 2, 2, 3, 3, 4, 4, 5,...</td>\n    </tr>\n    <tr>\n      <th>...</th>\n      <td>...</td>\n      <td>...</td>\n      <td>...</td>\n    </tr>\n    <tr>\n      <th>4195</th>\n      <td>3.85</td>\n      <td>OCCc1ccc(NC(=O)c2cc3cc(Cl)ccc3[nH]2)cc1</td>\n      <td>{'edge_index': [[0, 1, 1, 2, 2, 3, 3, 4, 4, 5,...</td>\n    </tr>\n    <tr>\n      <th>4196</th>\n      <td>3.21</td>\n      <td>CCN(C1CCN(CCC(c2ccc(F)cc2)c3ccc(F)cc3)CC1)C(=O...</td>\n      <td>{'edge_index': [[0, 1, 1, 2, 2, 3, 3, 4, 4, 5,...</td>\n    </tr>\n    <tr>\n      <th>4197</th>\n      <td>2.10</td>\n      <td>COc1cccc2[nH]ncc12</td>\n      <td>{'edge_index': [[0, 1, 1, 2, 2, 3, 3, 4, 4, 5,...</td>\n    </tr>\n    <tr>\n      <th>4198</th>\n      <td>2.65</td>\n      <td>Clc1ccc2ncccc2c1C(=O)NCC3CCCCC3</td>\n      <td>{'edge_index': [[0, 1, 1, 2, 2, 3, 3, 4, 4, 5,...</td>\n    </tr>\n    <tr>\n      <th>4199</th>\n      <td>2.70</td>\n      <td>CN1C(=O)C=C(CCc2ccc3ccccc3c2)N=C1N</td>\n      <td>{'edge_index': [[0, 1, 1, 2, 2, 3, 2, 4, 4, 5,...</td>\n    </tr>\n  </tbody>\n</table>\n<p>4200 rows × 3 columns</p>\n</div>"
     },
     "metadata": {},
     "execution_count": 7
    }
   ],
   "source": [
    "extra_df['graph']=extra_df.progress_apply(lambda row: smiles2graph(row['Smiles']),axis=1)\n",
    "extra_df"
   ]
  },
  {
   "cell_type": "code",
   "execution_count": 8,
   "metadata": {},
   "outputs": [
    {
     "output_type": "execute_result",
     "data": {
      "text/plain": [
       "                                                 Smiles  label  \\\n",
       "0               Cn1c(CN2CCN(CC2)c3ccc(Cl)cc3)nc4ccccc14   3.54   \n",
       "1     COc1cc(OC)c(cc1NC(=O)CSCC(=O)O)S(=O)(=O)N2C(C)...  -1.18   \n",
       "2                COC(=O)[C@@H](N1CCc2sccc2C1)c3ccccc3Cl   3.69   \n",
       "3     OC[C@H](O)CN1C(=O)C(Cc2ccccc12)NC(=O)c3cc4cc(C...   3.37   \n",
       "4     Cc1cccc(C[C@H](NC(=O)c2cc(nn2C)C(C)(C)C)C(=O)N...   3.10   \n",
       "...                                                 ...    ...   \n",
       "4195            OCCc1ccc(NC(=O)c2cc3cc(Cl)ccc3[nH]2)cc1   3.85   \n",
       "4196  CCN(C1CCN(CCC(c2ccc(F)cc2)c3ccc(F)cc3)CC1)C(=O...   3.21   \n",
       "4197                                 COc1cccc2[nH]ncc12   2.10   \n",
       "4198                    Clc1ccc2ncccc2c1C(=O)NCC3CCCCC3   2.65   \n",
       "4199                 CN1C(=O)C=C(CCc2ccc3ccccc3c2)N=C1N   2.70   \n",
       "\n",
       "                                                  graph  \n",
       "0     {'edge_index': [[0, 1, 1, 2, 2, 3, 3, 4, 4, 5,...  \n",
       "1     {'edge_index': [[0, 1, 1, 2, 2, 3, 3, 4, 4, 5,...  \n",
       "2     {'edge_index': [[0, 1, 1, 2, 2, 3, 2, 4, 4, 5,...  \n",
       "3     {'edge_index': [[0, 1, 1, 2, 2, 3, 2, 4, 4, 5,...  \n",
       "4     {'edge_index': [[0, 1, 1, 2, 2, 3, 3, 4, 4, 5,...  \n",
       "...                                                 ...  \n",
       "4195  {'edge_index': [[0, 1, 1, 2, 2, 3, 3, 4, 4, 5,...  \n",
       "4196  {'edge_index': [[0, 1, 1, 2, 2, 3, 3, 4, 4, 5,...  \n",
       "4197  {'edge_index': [[0, 1, 1, 2, 2, 3, 3, 4, 4, 5,...  \n",
       "4198  {'edge_index': [[0, 1, 1, 2, 2, 3, 3, 4, 4, 5,...  \n",
       "4199  {'edge_index': [[0, 1, 1, 2, 2, 3, 2, 4, 4, 5,...  \n",
       "\n",
       "[4200 rows x 3 columns]"
      ],
      "text/html": "<div>\n<style scoped>\n    .dataframe tbody tr th:only-of-type {\n        vertical-align: middle;\n    }\n\n    .dataframe tbody tr th {\n        vertical-align: top;\n    }\n\n    .dataframe thead th {\n        text-align: right;\n    }\n</style>\n<table border=\"1\" class=\"dataframe\">\n  <thead>\n    <tr style=\"text-align: right;\">\n      <th></th>\n      <th>Smiles</th>\n      <th>label</th>\n      <th>graph</th>\n    </tr>\n  </thead>\n  <tbody>\n    <tr>\n      <th>0</th>\n      <td>Cn1c(CN2CCN(CC2)c3ccc(Cl)cc3)nc4ccccc14</td>\n      <td>3.54</td>\n      <td>{'edge_index': [[0, 1, 1, 2, 2, 3, 3, 4, 4, 5,...</td>\n    </tr>\n    <tr>\n      <th>1</th>\n      <td>COc1cc(OC)c(cc1NC(=O)CSCC(=O)O)S(=O)(=O)N2C(C)...</td>\n      <td>-1.18</td>\n      <td>{'edge_index': [[0, 1, 1, 2, 2, 3, 3, 4, 4, 5,...</td>\n    </tr>\n    <tr>\n      <th>2</th>\n      <td>COC(=O)[C@@H](N1CCc2sccc2C1)c3ccccc3Cl</td>\n      <td>3.69</td>\n      <td>{'edge_index': [[0, 1, 1, 2, 2, 3, 2, 4, 4, 5,...</td>\n    </tr>\n    <tr>\n      <th>3</th>\n      <td>OC[C@H](O)CN1C(=O)C(Cc2ccccc12)NC(=O)c3cc4cc(C...</td>\n      <td>3.37</td>\n      <td>{'edge_index': [[0, 1, 1, 2, 2, 3, 2, 4, 4, 5,...</td>\n    </tr>\n    <tr>\n      <th>4</th>\n      <td>Cc1cccc(C[C@H](NC(=O)c2cc(nn2C)C(C)(C)C)C(=O)N...</td>\n      <td>3.10</td>\n      <td>{'edge_index': [[0, 1, 1, 2, 2, 3, 3, 4, 4, 5,...</td>\n    </tr>\n    <tr>\n      <th>...</th>\n      <td>...</td>\n      <td>...</td>\n      <td>...</td>\n    </tr>\n    <tr>\n      <th>4195</th>\n      <td>OCCc1ccc(NC(=O)c2cc3cc(Cl)ccc3[nH]2)cc1</td>\n      <td>3.85</td>\n      <td>{'edge_index': [[0, 1, 1, 2, 2, 3, 3, 4, 4, 5,...</td>\n    </tr>\n    <tr>\n      <th>4196</th>\n      <td>CCN(C1CCN(CCC(c2ccc(F)cc2)c3ccc(F)cc3)CC1)C(=O...</td>\n      <td>3.21</td>\n      <td>{'edge_index': [[0, 1, 1, 2, 2, 3, 3, 4, 4, 5,...</td>\n    </tr>\n    <tr>\n      <th>4197</th>\n      <td>COc1cccc2[nH]ncc12</td>\n      <td>2.10</td>\n      <td>{'edge_index': [[0, 1, 1, 2, 2, 3, 3, 4, 4, 5,...</td>\n    </tr>\n    <tr>\n      <th>4198</th>\n      <td>Clc1ccc2ncccc2c1C(=O)NCC3CCCCC3</td>\n      <td>2.65</td>\n      <td>{'edge_index': [[0, 1, 1, 2, 2, 3, 3, 4, 4, 5,...</td>\n    </tr>\n    <tr>\n      <th>4199</th>\n      <td>CN1C(=O)C=C(CCc2ccc3ccccc3c2)N=C1N</td>\n      <td>2.70</td>\n      <td>{'edge_index': [[0, 1, 1, 2, 2, 3, 2, 4, 4, 5,...</td>\n    </tr>\n  </tbody>\n</table>\n<p>4200 rows × 3 columns</p>\n</div>"
     },
     "metadata": {},
     "execution_count": 8
    }
   ],
   "source": [
    "extra_df=extra_df[train_df.columns] #reordering to match.\n",
    "extra_df"
   ]
  },
  {
   "cell_type": "code",
   "execution_count": 9,
   "metadata": {},
   "outputs": [
    {
     "output_type": "execute_result",
     "data": {
      "text/plain": [
       "285"
      ]
     },
     "metadata": {},
     "execution_count": 9
    }
   ],
   "source": [
    "sum(extra_df['Smiles'].isin(train_df['Smiles']).astype(int))\n",
    "#number of duplicate SMILES."
   ]
  },
  {
   "cell_type": "code",
   "execution_count": 10,
   "metadata": {},
   "outputs": [
    {
     "output_type": "execute_result",
     "data": {
      "text/plain": [
       "                                                 Smiles  label  \\\n",
       "0     CC(C)Oc1cc(Oc2ccc(S(C)(=O)=O)cc2)cc(-c2ncc(Cl)...   2.00   \n",
       "1     CNS(=O)(=O)c1ccc(Oc2cc(OC(C)C)cc(-c3nccc(=O)[n...   2.60   \n",
       "2     CC(C)Oc1cc(Oc2cnc(C(=O)N(C)C)c(F)c2)cc(-c2nccc...   1.50   \n",
       "3     CC(C)Oc1cc(Oc2cnc(C(=O)N(C)C)cn2)cc(-c2nccc(=O...   1.30   \n",
       "4     CCC(CC)Oc1cc(Oc2cnc(C(=O)N(C)C)nc2)cc(-c2nccc(...   1.90   \n",
       "...                                                 ...    ...   \n",
       "4195            OCCc1ccc(NC(=O)c2cc3cc(Cl)ccc3[nH]2)cc1   3.85   \n",
       "4196  CCN(C1CCN(CCC(c2ccc(F)cc2)c3ccc(F)cc3)CC1)C(=O...   3.21   \n",
       "4197                                 COc1cccc2[nH]ncc12   2.10   \n",
       "4198                    Clc1ccc2ncccc2c1C(=O)NCC3CCCCC3   2.65   \n",
       "4199                 CN1C(=O)C=C(CCc2ccc3ccccc3c2)N=C1N   2.70   \n",
       "\n",
       "                                                  graph  \n",
       "0     {'edge_index': [[0, 1, 1, 2, 1, 3, 3, 4, 4, 5,...  \n",
       "1     {'edge_index': [[0, 1, 1, 2, 2, 3, 2, 4, 2, 5,...  \n",
       "2     {'edge_index': [[0, 1, 1, 2, 1, 3, 3, 4, 4, 5,...  \n",
       "3     {'edge_index': [[0, 1, 1, 2, 1, 3, 3, 4, 4, 5,...  \n",
       "4     {'edge_index': [[0, 1, 1, 2, 2, 3, 3, 4, 2, 5,...  \n",
       "...                                                 ...  \n",
       "4195  {'edge_index': [[0, 1, 1, 2, 2, 3, 3, 4, 4, 5,...  \n",
       "4196  {'edge_index': [[0, 1, 1, 2, 2, 3, 3, 4, 4, 5,...  \n",
       "4197  {'edge_index': [[0, 1, 1, 2, 2, 3, 3, 4, 4, 5,...  \n",
       "4198  {'edge_index': [[0, 1, 1, 2, 2, 3, 3, 4, 4, 5,...  \n",
       "4199  {'edge_index': [[0, 1, 1, 2, 2, 3, 2, 4, 4, 5,...  \n",
       "\n",
       "[8029 rows x 3 columns]"
      ],
      "text/html": "<div>\n<style scoped>\n    .dataframe tbody tr th:only-of-type {\n        vertical-align: middle;\n    }\n\n    .dataframe tbody tr th {\n        vertical-align: top;\n    }\n\n    .dataframe thead th {\n        text-align: right;\n    }\n</style>\n<table border=\"1\" class=\"dataframe\">\n  <thead>\n    <tr style=\"text-align: right;\">\n      <th></th>\n      <th>Smiles</th>\n      <th>label</th>\n      <th>graph</th>\n    </tr>\n  </thead>\n  <tbody>\n    <tr>\n      <th>0</th>\n      <td>CC(C)Oc1cc(Oc2ccc(S(C)(=O)=O)cc2)cc(-c2ncc(Cl)...</td>\n      <td>2.00</td>\n      <td>{'edge_index': [[0, 1, 1, 2, 1, 3, 3, 4, 4, 5,...</td>\n    </tr>\n    <tr>\n      <th>1</th>\n      <td>CNS(=O)(=O)c1ccc(Oc2cc(OC(C)C)cc(-c3nccc(=O)[n...</td>\n      <td>2.60</td>\n      <td>{'edge_index': [[0, 1, 1, 2, 2, 3, 2, 4, 2, 5,...</td>\n    </tr>\n    <tr>\n      <th>2</th>\n      <td>CC(C)Oc1cc(Oc2cnc(C(=O)N(C)C)c(F)c2)cc(-c2nccc...</td>\n      <td>1.50</td>\n      <td>{'edge_index': [[0, 1, 1, 2, 1, 3, 3, 4, 4, 5,...</td>\n    </tr>\n    <tr>\n      <th>3</th>\n      <td>CC(C)Oc1cc(Oc2cnc(C(=O)N(C)C)cn2)cc(-c2nccc(=O...</td>\n      <td>1.30</td>\n      <td>{'edge_index': [[0, 1, 1, 2, 1, 3, 3, 4, 4, 5,...</td>\n    </tr>\n    <tr>\n      <th>4</th>\n      <td>CCC(CC)Oc1cc(Oc2cnc(C(=O)N(C)C)nc2)cc(-c2nccc(...</td>\n      <td>1.90</td>\n      <td>{'edge_index': [[0, 1, 1, 2, 2, 3, 3, 4, 2, 5,...</td>\n    </tr>\n    <tr>\n      <th>...</th>\n      <td>...</td>\n      <td>...</td>\n      <td>...</td>\n    </tr>\n    <tr>\n      <th>4195</th>\n      <td>OCCc1ccc(NC(=O)c2cc3cc(Cl)ccc3[nH]2)cc1</td>\n      <td>3.85</td>\n      <td>{'edge_index': [[0, 1, 1, 2, 2, 3, 3, 4, 4, 5,...</td>\n    </tr>\n    <tr>\n      <th>4196</th>\n      <td>CCN(C1CCN(CCC(c2ccc(F)cc2)c3ccc(F)cc3)CC1)C(=O...</td>\n      <td>3.21</td>\n      <td>{'edge_index': [[0, 1, 1, 2, 2, 3, 3, 4, 4, 5,...</td>\n    </tr>\n    <tr>\n      <th>4197</th>\n      <td>COc1cccc2[nH]ncc12</td>\n      <td>2.10</td>\n      <td>{'edge_index': [[0, 1, 1, 2, 2, 3, 3, 4, 4, 5,...</td>\n    </tr>\n    <tr>\n      <th>4198</th>\n      <td>Clc1ccc2ncccc2c1C(=O)NCC3CCCCC3</td>\n      <td>2.65</td>\n      <td>{'edge_index': [[0, 1, 1, 2, 2, 3, 3, 4, 4, 5,...</td>\n    </tr>\n    <tr>\n      <th>4199</th>\n      <td>CN1C(=O)C=C(CCc2ccc3ccccc3c2)N=C1N</td>\n      <td>2.70</td>\n      <td>{'edge_index': [[0, 1, 1, 2, 2, 3, 2, 4, 4, 5,...</td>\n    </tr>\n  </tbody>\n</table>\n<p>8029 rows × 3 columns</p>\n</div>"
     },
     "metadata": {},
     "execution_count": 10
    }
   ],
   "source": [
    "augmented_train_df = pd.concat([train_df,extra_df])\n",
    "augmented_train_df"
   ]
  },
  {
   "cell_type": "code",
   "execution_count": 11,
   "metadata": {},
   "outputs": [
    {
     "output_type": "execute_result",
     "data": {
      "text/plain": [
       "                                                 Smiles  label  \\\n",
       "2623                                   CC(=N)NCc1ccccc1  -0.28   \n",
       "3107                                   CC(=N)NCc1ccccc1  -0.28   \n",
       "2502  CC(=O)Nc1ccc(CNc2[nH]nc3cccc(Oc4ccc(F)cc4)c23)cc1   4.28   \n",
       "2525  CC(=O)Nc1ccc(CNc2[nH]nc3cccc(Oc4ccc(F)cc4)c23)cc1   4.28   \n",
       "1551     CC(=O)Nc1ccc(CNc2[nH]nc3ccnc(Oc4ccccc4)c23)cc1   3.03   \n",
       "...                                                 ...    ...   \n",
       "497                                      c1ccc2ncccc2c1   2.09   \n",
       "721                                      c1ccc2ncncc2c1   1.00   \n",
       "3013                                     c1ccc2ncncc2c1   1.00   \n",
       "3753                                     c1cnc2cccnc2c1   0.89   \n",
       "2952                                     c1cnc2cccnc2c1   0.89   \n",
       "\n",
       "                                                  graph  \n",
       "2623  {'edge_index': [[0, 1, 1, 2, 1, 3, 3, 4, 4, 5,...  \n",
       "3107  {'edge_index': [[0, 1, 1, 2, 1, 3, 3, 4, 4, 5,...  \n",
       "2502  {'edge_index': [[0, 1, 1, 2, 1, 3, 3, 4, 4, 5,...  \n",
       "2525  {'edge_index': [[0, 1, 1, 2, 1, 3, 3, 4, 4, 5,...  \n",
       "1551  {'edge_index': [[0, 1, 1, 2, 1, 3, 3, 4, 4, 5,...  \n",
       "...                                                 ...  \n",
       "497   {'edge_index': [[0, 1, 1, 2, 2, 3, 3, 4, 4, 5,...  \n",
       "721   {'edge_index': [[0, 1, 1, 2, 2, 3, 3, 4, 4, 5,...  \n",
       "3013  {'edge_index': [[0, 1, 1, 2, 2, 3, 3, 4, 4, 5,...  \n",
       "3753  {'edge_index': [[0, 1, 1, 2, 2, 3, 3, 4, 4, 5,...  \n",
       "2952  {'edge_index': [[0, 1, 1, 2, 2, 3, 3, 4, 4, 5,...  \n",
       "\n",
       "[568 rows x 3 columns]"
      ],
      "text/html": "<div>\n<style scoped>\n    .dataframe tbody tr th:only-of-type {\n        vertical-align: middle;\n    }\n\n    .dataframe tbody tr th {\n        vertical-align: top;\n    }\n\n    .dataframe thead th {\n        text-align: right;\n    }\n</style>\n<table border=\"1\" class=\"dataframe\">\n  <thead>\n    <tr style=\"text-align: right;\">\n      <th></th>\n      <th>Smiles</th>\n      <th>label</th>\n      <th>graph</th>\n    </tr>\n  </thead>\n  <tbody>\n    <tr>\n      <th>2623</th>\n      <td>CC(=N)NCc1ccccc1</td>\n      <td>-0.28</td>\n      <td>{'edge_index': [[0, 1, 1, 2, 1, 3, 3, 4, 4, 5,...</td>\n    </tr>\n    <tr>\n      <th>3107</th>\n      <td>CC(=N)NCc1ccccc1</td>\n      <td>-0.28</td>\n      <td>{'edge_index': [[0, 1, 1, 2, 1, 3, 3, 4, 4, 5,...</td>\n    </tr>\n    <tr>\n      <th>2502</th>\n      <td>CC(=O)Nc1ccc(CNc2[nH]nc3cccc(Oc4ccc(F)cc4)c23)cc1</td>\n      <td>4.28</td>\n      <td>{'edge_index': [[0, 1, 1, 2, 1, 3, 3, 4, 4, 5,...</td>\n    </tr>\n    <tr>\n      <th>2525</th>\n      <td>CC(=O)Nc1ccc(CNc2[nH]nc3cccc(Oc4ccc(F)cc4)c23)cc1</td>\n      <td>4.28</td>\n      <td>{'edge_index': [[0, 1, 1, 2, 1, 3, 3, 4, 4, 5,...</td>\n    </tr>\n    <tr>\n      <th>1551</th>\n      <td>CC(=O)Nc1ccc(CNc2[nH]nc3ccnc(Oc4ccccc4)c23)cc1</td>\n      <td>3.03</td>\n      <td>{'edge_index': [[0, 1, 1, 2, 1, 3, 3, 4, 4, 5,...</td>\n    </tr>\n    <tr>\n      <th>...</th>\n      <td>...</td>\n      <td>...</td>\n      <td>...</td>\n    </tr>\n    <tr>\n      <th>497</th>\n      <td>c1ccc2ncccc2c1</td>\n      <td>2.09</td>\n      <td>{'edge_index': [[0, 1, 1, 2, 2, 3, 3, 4, 4, 5,...</td>\n    </tr>\n    <tr>\n      <th>721</th>\n      <td>c1ccc2ncncc2c1</td>\n      <td>1.00</td>\n      <td>{'edge_index': [[0, 1, 1, 2, 2, 3, 3, 4, 4, 5,...</td>\n    </tr>\n    <tr>\n      <th>3013</th>\n      <td>c1ccc2ncncc2c1</td>\n      <td>1.00</td>\n      <td>{'edge_index': [[0, 1, 1, 2, 2, 3, 3, 4, 4, 5,...</td>\n    </tr>\n    <tr>\n      <th>3753</th>\n      <td>c1cnc2cccnc2c1</td>\n      <td>0.89</td>\n      <td>{'edge_index': [[0, 1, 1, 2, 2, 3, 3, 4, 4, 5,...</td>\n    </tr>\n    <tr>\n      <th>2952</th>\n      <td>c1cnc2cccnc2c1</td>\n      <td>0.89</td>\n      <td>{'edge_index': [[0, 1, 1, 2, 2, 3, 3, 4, 4, 5,...</td>\n    </tr>\n  </tbody>\n</table>\n<p>568 rows × 3 columns</p>\n</div>"
     },
     "metadata": {},
     "execution_count": 11
    }
   ],
   "source": [
    "#checking if logD values match, then drop those duplicates\n",
    "augmented_train_df[augmented_train_df.duplicated(['Smiles','label'],keep=False)].sort_values('Smiles')"
   ]
  },
  {
   "cell_type": "code",
   "execution_count": 12,
   "metadata": {},
   "outputs": [
    {
     "output_type": "execute_result",
     "data": {
      "text/plain": [
       "                                                 Smiles  label  \\\n",
       "0     CC(C)Oc1cc(Oc2ccc(S(C)(=O)=O)cc2)cc(-c2ncc(Cl)...   2.00   \n",
       "1     CNS(=O)(=O)c1ccc(Oc2cc(OC(C)C)cc(-c3nccc(=O)[n...   2.60   \n",
       "2     CC(C)Oc1cc(Oc2cnc(C(=O)N(C)C)c(F)c2)cc(-c2nccc...   1.50   \n",
       "3     CC(C)Oc1cc(Oc2cnc(C(=O)N(C)C)cn2)cc(-c2nccc(=O...   1.30   \n",
       "4     CCC(CC)Oc1cc(Oc2cnc(C(=O)N(C)C)nc2)cc(-c2nccc(...   1.90   \n",
       "...                                                 ...    ...   \n",
       "4194  CC1CC(N(C(=O)C)c2ccccc2)c3ccccc3N1S(=O)(=O)c4c...   3.68   \n",
       "4195            OCCc1ccc(NC(=O)c2cc3cc(Cl)ccc3[nH]2)cc1   3.85   \n",
       "4196  CCN(C1CCN(CCC(c2ccc(F)cc2)c3ccc(F)cc3)CC1)C(=O...   3.21   \n",
       "4198                    Clc1ccc2ncccc2c1C(=O)NCC3CCCCC3   2.65   \n",
       "4199                 CN1C(=O)C=C(CCc2ccc3ccccc3c2)N=C1N   2.70   \n",
       "\n",
       "                                                  graph  \n",
       "0     {'edge_index': [[0, 1, 1, 2, 1, 3, 3, 4, 4, 5,...  \n",
       "1     {'edge_index': [[0, 1, 1, 2, 2, 3, 2, 4, 2, 5,...  \n",
       "2     {'edge_index': [[0, 1, 1, 2, 1, 3, 3, 4, 4, 5,...  \n",
       "3     {'edge_index': [[0, 1, 1, 2, 1, 3, 3, 4, 4, 5,...  \n",
       "4     {'edge_index': [[0, 1, 1, 2, 2, 3, 3, 4, 2, 5,...  \n",
       "...                                                 ...  \n",
       "4194  {'edge_index': [[0, 1, 1, 2, 2, 3, 3, 4, 4, 5,...  \n",
       "4195  {'edge_index': [[0, 1, 1, 2, 2, 3, 3, 4, 4, 5,...  \n",
       "4196  {'edge_index': [[0, 1, 1, 2, 2, 3, 3, 4, 4, 5,...  \n",
       "4198  {'edge_index': [[0, 1, 1, 2, 2, 3, 3, 4, 4, 5,...  \n",
       "4199  {'edge_index': [[0, 1, 1, 2, 2, 3, 2, 4, 4, 5,...  \n",
       "\n",
       "[7745 rows x 3 columns]"
      ],
      "text/html": "<div>\n<style scoped>\n    .dataframe tbody tr th:only-of-type {\n        vertical-align: middle;\n    }\n\n    .dataframe tbody tr th {\n        vertical-align: top;\n    }\n\n    .dataframe thead th {\n        text-align: right;\n    }\n</style>\n<table border=\"1\" class=\"dataframe\">\n  <thead>\n    <tr style=\"text-align: right;\">\n      <th></th>\n      <th>Smiles</th>\n      <th>label</th>\n      <th>graph</th>\n    </tr>\n  </thead>\n  <tbody>\n    <tr>\n      <th>0</th>\n      <td>CC(C)Oc1cc(Oc2ccc(S(C)(=O)=O)cc2)cc(-c2ncc(Cl)...</td>\n      <td>2.00</td>\n      <td>{'edge_index': [[0, 1, 1, 2, 1, 3, 3, 4, 4, 5,...</td>\n    </tr>\n    <tr>\n      <th>1</th>\n      <td>CNS(=O)(=O)c1ccc(Oc2cc(OC(C)C)cc(-c3nccc(=O)[n...</td>\n      <td>2.60</td>\n      <td>{'edge_index': [[0, 1, 1, 2, 2, 3, 2, 4, 2, 5,...</td>\n    </tr>\n    <tr>\n      <th>2</th>\n      <td>CC(C)Oc1cc(Oc2cnc(C(=O)N(C)C)c(F)c2)cc(-c2nccc...</td>\n      <td>1.50</td>\n      <td>{'edge_index': [[0, 1, 1, 2, 1, 3, 3, 4, 4, 5,...</td>\n    </tr>\n    <tr>\n      <th>3</th>\n      <td>CC(C)Oc1cc(Oc2cnc(C(=O)N(C)C)cn2)cc(-c2nccc(=O...</td>\n      <td>1.30</td>\n      <td>{'edge_index': [[0, 1, 1, 2, 1, 3, 3, 4, 4, 5,...</td>\n    </tr>\n    <tr>\n      <th>4</th>\n      <td>CCC(CC)Oc1cc(Oc2cnc(C(=O)N(C)C)nc2)cc(-c2nccc(...</td>\n      <td>1.90</td>\n      <td>{'edge_index': [[0, 1, 1, 2, 2, 3, 3, 4, 2, 5,...</td>\n    </tr>\n    <tr>\n      <th>...</th>\n      <td>...</td>\n      <td>...</td>\n      <td>...</td>\n    </tr>\n    <tr>\n      <th>4194</th>\n      <td>CC1CC(N(C(=O)C)c2ccccc2)c3ccccc3N1S(=O)(=O)c4c...</td>\n      <td>3.68</td>\n      <td>{'edge_index': [[0, 1, 1, 2, 2, 3, 3, 4, 4, 5,...</td>\n    </tr>\n    <tr>\n      <th>4195</th>\n      <td>OCCc1ccc(NC(=O)c2cc3cc(Cl)ccc3[nH]2)cc1</td>\n      <td>3.85</td>\n      <td>{'edge_index': [[0, 1, 1, 2, 2, 3, 3, 4, 4, 5,...</td>\n    </tr>\n    <tr>\n      <th>4196</th>\n      <td>CCN(C1CCN(CCC(c2ccc(F)cc2)c3ccc(F)cc3)CC1)C(=O...</td>\n      <td>3.21</td>\n      <td>{'edge_index': [[0, 1, 1, 2, 2, 3, 3, 4, 4, 5,...</td>\n    </tr>\n    <tr>\n      <th>4198</th>\n      <td>Clc1ccc2ncccc2c1C(=O)NCC3CCCCC3</td>\n      <td>2.65</td>\n      <td>{'edge_index': [[0, 1, 1, 2, 2, 3, 3, 4, 4, 5,...</td>\n    </tr>\n    <tr>\n      <th>4199</th>\n      <td>CN1C(=O)C=C(CCc2ccc3ccccc3c2)N=C1N</td>\n      <td>2.70</td>\n      <td>{'edge_index': [[0, 1, 1, 2, 2, 3, 2, 4, 4, 5,...</td>\n    </tr>\n  </tbody>\n</table>\n<p>7745 rows × 3 columns</p>\n</div>"
     },
     "metadata": {},
     "execution_count": 12
    }
   ],
   "source": [
    "augmented_train_df = augmented_train_df.drop_duplicates(['Smiles','label'])\n",
    "augmented_train_df"
   ]
  },
  {
   "cell_type": "code",
   "execution_count": 44,
   "metadata": {},
   "outputs": [
    {
     "output_type": "execute_result",
     "data": {
      "text/plain": [
       "{'edge_index': array([[ 0,  1,  1,  2,  2,  3,  2,  4,  1,  5,  5,  6,  6,  7,  7,  8,\n",
       "          8,  9,  9, 10, 10, 11, 11, 12, 12, 13, 13, 14, 14, 15, 15, 16,\n",
       "         16, 17, 17, 18, 18, 19, 15, 20, 20, 21, 21, 22, 22, 23, 23, 24,\n",
       "         24, 25,  8, 26, 26, 27, 27,  5, 19, 10, 18, 13, 25, 20],\n",
       "        [ 1,  0,  2,  1,  3,  2,  4,  2,  5,  1,  6,  5,  7,  6,  8,  7,\n",
       "          9,  8, 10,  9, 11, 10, 12, 11, 13, 12, 14, 13, 15, 14, 16, 15,\n",
       "         17, 16, 18, 17, 19, 18, 20, 15, 21, 20, 22, 21, 23, 22, 24, 23,\n",
       "         25, 24, 26,  8, 27, 26,  5, 27, 10, 19, 13, 18, 20, 25]]),\n",
       " 'edge_feat': array([[0, 0, 0],\n",
       "        [0, 0, 0],\n",
       "        [0, 0, 1],\n",
       "        [0, 0, 1],\n",
       "        [1, 0, 1],\n",
       "        [1, 0, 1],\n",
       "        [0, 0, 0],\n",
       "        [0, 0, 0],\n",
       "        [0, 0, 1],\n",
       "        [0, 0, 1],\n",
       "        [3, 0, 1],\n",
       "        [3, 0, 1],\n",
       "        [3, 0, 1],\n",
       "        [3, 0, 1],\n",
       "        [3, 0, 1],\n",
       "        [3, 0, 1],\n",
       "        [0, 0, 1],\n",
       "        [0, 0, 1],\n",
       "        [0, 0, 1],\n",
       "        [0, 0, 1],\n",
       "        [3, 0, 1],\n",
       "        [3, 0, 1],\n",
       "        [3, 0, 1],\n",
       "        [3, 0, 1],\n",
       "        [3, 0, 1],\n",
       "        [3, 0, 1],\n",
       "        [3, 0, 1],\n",
       "        [3, 0, 1],\n",
       "        [3, 0, 1],\n",
       "        [3, 0, 1],\n",
       "        [3, 0, 1],\n",
       "        [3, 0, 1],\n",
       "        [3, 0, 1],\n",
       "        [3, 0, 1],\n",
       "        [3, 0, 1],\n",
       "        [3, 0, 1],\n",
       "        [3, 0, 1],\n",
       "        [3, 0, 1],\n",
       "        [0, 0, 1],\n",
       "        [0, 0, 1],\n",
       "        [3, 0, 1],\n",
       "        [3, 0, 1],\n",
       "        [3, 0, 1],\n",
       "        [3, 0, 1],\n",
       "        [3, 0, 1],\n",
       "        [3, 0, 1],\n",
       "        [3, 0, 1],\n",
       "        [3, 0, 1],\n",
       "        [3, 0, 1],\n",
       "        [3, 0, 1],\n",
       "        [3, 0, 1],\n",
       "        [3, 0, 1],\n",
       "        [3, 0, 1],\n",
       "        [3, 0, 1],\n",
       "        [3, 0, 1],\n",
       "        [3, 0, 1],\n",
       "        [3, 0, 1],\n",
       "        [3, 0, 1],\n",
       "        [3, 0, 1],\n",
       "        [3, 0, 1],\n",
       "        [3, 0, 1],\n",
       "        [3, 0, 1]]),\n",
       " 'node_feat': array([[5, 0, 4, 5, 3, 0, 2, 0, 0],\n",
       "        [6, 0, 3, 5, 0, 0, 1, 0, 0],\n",
       "        [5, 0, 3, 5, 0, 0, 1, 0, 0],\n",
       "        [7, 0, 1, 5, 0, 0, 1, 0, 0],\n",
       "        [5, 0, 4, 5, 3, 0, 2, 0, 0],\n",
       "        [5, 0, 3, 5, 0, 0, 1, 1, 1],\n",
       "        [5, 0, 3, 5, 1, 0, 1, 1, 1],\n",
       "        [5, 0, 3, 5, 1, 0, 1, 1, 1],\n",
       "        [5, 0, 3, 5, 0, 0, 1, 1, 1],\n",
       "        [6, 0, 3, 5, 1, 0, 1, 0, 0],\n",
       "        [5, 0, 3, 5, 0, 0, 1, 1, 1],\n",
       "        [6, 0, 2, 5, 0, 0, 1, 1, 1],\n",
       "        [5, 0, 3, 5, 1, 0, 1, 1, 1],\n",
       "        [5, 0, 3, 5, 0, 0, 1, 1, 1],\n",
       "        [5, 0, 3, 5, 1, 0, 1, 1, 1],\n",
       "        [5, 0, 3, 5, 0, 0, 1, 1, 1],\n",
       "        [5, 0, 3, 5, 1, 0, 1, 1, 1],\n",
       "        [5, 0, 3, 5, 1, 0, 1, 1, 1],\n",
       "        [5, 0, 3, 5, 0, 0, 1, 1, 1],\n",
       "        [6, 0, 2, 5, 0, 0, 1, 1, 1],\n",
       "        [5, 0, 3, 5, 0, 0, 1, 1, 1],\n",
       "        [5, 0, 3, 5, 1, 0, 1, 1, 1],\n",
       "        [5, 0, 3, 5, 1, 0, 1, 1, 1],\n",
       "        [6, 0, 2, 5, 0, 0, 1, 1, 1],\n",
       "        [5, 0, 3, 5, 1, 0, 1, 1, 1],\n",
       "        [5, 0, 3, 5, 1, 0, 1, 1, 1],\n",
       "        [5, 0, 3, 5, 1, 0, 1, 1, 1],\n",
       "        [5, 0, 3, 5, 1, 0, 1, 1, 1]]),\n",
       " 'num_nodes': 28}"
      ]
     },
     "metadata": {},
     "execution_count": 44
    }
   ],
   "source": [
    "augmented_train_df['graph'].iloc[7000]"
   ]
  },
  {
   "cell_type": "code",
   "execution_count": 31,
   "metadata": {},
   "outputs": [],
   "source": [
    "import os\n",
    "import os.path as osp\n",
    "import re\n",
    "\n",
    "import torch\n",
    "from torch_geometric.data import (InMemoryDataset, Data, download_url,\n",
    "                                  extract_gz)\n",
    "\n",
    "try:\n",
    "    from rdkit import Chem\n",
    "except ImportError:\n",
    "    Chem = None\n",
    "\n",
    "x_map = {\n",
    "    'atomic_num':\n",
    "    list(range(0, 119)),\n",
    "    'chirality': [\n",
    "        'CHI_UNSPECIFIED',\n",
    "        'CHI_TETRAHEDRAL_CW',\n",
    "        'CHI_TETRAHEDRAL_CCW',\n",
    "        'CHI_OTHER',\n",
    "    ],\n",
    "    'degree':\n",
    "    list(range(0, 11)),\n",
    "    'formal_charge':\n",
    "    list(range(-5, 7)),\n",
    "    'num_hs':\n",
    "    list(range(0, 9)),\n",
    "    'num_radical_electrons':\n",
    "    list(range(0, 5)),\n",
    "    'hybridization': [\n",
    "        'UNSPECIFIED',\n",
    "        'S',\n",
    "        'SP',\n",
    "        'SP2',\n",
    "        'SP3',\n",
    "        'SP3D',\n",
    "        'SP3D2',\n",
    "        'OTHER',\n",
    "    ],\n",
    "    'is_aromatic': [False, True],\n",
    "    'is_in_ring': [False, True],\n",
    "}\n",
    "\n",
    "e_map = {\n",
    "    'bond_type': [\n",
    "        'misc',\n",
    "        'SINGLE',\n",
    "        'DOUBLE',\n",
    "        'TRIPLE',\n",
    "        'AROMATIC',\n",
    "    ],\n",
    "    'stereo': [\n",
    "        'STEREONONE',\n",
    "        'STEREOZ',\n",
    "        'STEREOE',\n",
    "        'STEREOCIS',\n",
    "        'STEREOTRANS',\n",
    "        'STEREOANY',\n",
    "    ],\n",
    "    'is_conjugated': [False, True],\n",
    "}\n",
    "\n",
    "#http://moleculenet.ai/datasets-1\n",
    "class MoleculeNet(InMemoryDataset):\n",
    "    r\"\"\"The `MoleculeNet <http://moleculenet.ai/datasets-1>`_ benchmark\n",
    "    collection  from the `\"MoleculeNet: A Benchmark for Molecular Machine\n",
    "    Learning\" <https://arxiv.org/abs/1703.00564>`_ paper, containing datasets\n",
    "    from physical chemistry, biophysics and physiology.\n",
    "    All datasets come with the additional node and edge features introduced by\n",
    "    the `Open Graph Benchmark <https://ogb.stanford.edu/docs/graphprop/>`_.\n",
    "\n",
    "    Args:\n",
    "        root (string): Root directory where the dataset should be saved.\n",
    "        name (string): The name of the dataset (:obj:`\"ESOL\"`,\n",
    "            :obj:`\"FreeSolv\"`, :obj:`\"Lipo\"`, :obj:`\"PCBA\"`, :obj:`\"MUV\"`,\n",
    "            :obj:`\"HIV\"`, :obj:`\"BACE\"`, :obj:`\"BBPB\"`, :obj:`\"Tox21\"`,\n",
    "            :obj:`\"ToxCast\"`, :obj:`\"SIDER\"`, :obj:`\"ClinTox\"`).\n",
    "        transform (callable, optional): A function/transform that takes in an\n",
    "            :obj:`torch_geometric.data.Data` object and returns a transformed\n",
    "            version. The data object will be transformed before every access.\n",
    "            (default: :obj:`None`)\n",
    "        pre_transform (callable, optional): A function/transform that takes in\n",
    "            an :obj:`torch_geometric.data.Data` object and returns a\n",
    "            transformed version. The data object will be transformed before\n",
    "            being saved to disk. (default: :obj:`None`)\n",
    "        pre_filter (callable, optional): A function that takes in an\n",
    "            :obj:`torch_geometric.data.Data` object and returns a boolean\n",
    "            value, indicating whether the data object should be included in the\n",
    "            final dataset. (default: :obj:`None`)\n",
    "    \"\"\"\n",
    "\n",
    "    # Format: name: [display_name, url_name, csv_name, smiles_idx, y_idx]\n",
    "    names = {\n",
    "        'lipo': ['Train', 'train.csv', 'train', 0, 1],\n",
    "        'alt': ['Lipophilicity', 'Lipophilicity.csv', 'Lipophilicity', 2, 1],\n",
    "    }\n",
    "\n",
    "    def __init__(self, root, name, transform=None, pre_transform=None,\n",
    "                 pre_filter=None):\n",
    "\n",
    "        if Chem is None:\n",
    "            raise ImportError('`MoleculeNet` requires `rdkit`.')\n",
    "\n",
    "        self.name = name.lower()\n",
    "        assert self.name in self.names.keys()\n",
    "        super(MoleculeNet, self).__init__(root, transform, pre_transform,\n",
    "                                          pre_filter)\n",
    "        self.data, self.slices = torch.load(self.processed_paths[0])\n",
    "\n",
    "    @property\n",
    "    def raw_dir(self):\n",
    "        return osp.join(self.root, self.name, 'raw')\n",
    "\n",
    "    @property\n",
    "    def processed_dir(self):\n",
    "        return osp.join(self.root, self.name, 'processed')\n",
    "\n",
    "    @property\n",
    "    def raw_file_names(self):\n",
    "        return f'{self.names[self.name][2]}.csv'\n",
    "\n",
    "    @property\n",
    "    def processed_file_names(self):\n",
    "        return 'data.pt'\n",
    "\n",
    "    def process(self):\n",
    "        with open(self.raw_paths[0], 'r') as f:\n",
    "            dataset = f.read().split('\\n')[1:-1]\n",
    "            dataset = [x for x in dataset if len(x) > 0]  # Filter empty lines.\n",
    "\n",
    "        data_list = []\n",
    "        for line in dataset:\n",
    "            line = re.sub(r'\\\".*\\\"', '', line)  # Replace \".*\" strings.\n",
    "            line = line.split(',')\n",
    "\n",
    "            smiles = line[self.names[self.name][3]]\n",
    "            ys = line[self.names[self.name][4]]\n",
    "            ys = ys if isinstance(ys, list) else [ys]\n",
    "\n",
    "            ys = [float(y) if len(y) > 0 else float('NaN') for y in ys]\n",
    "            y = torch.tensor(ys, dtype=torch.float).view(1, -1)\n",
    "\n",
    "            mol = Chem.MolFromSmiles(smiles)\n",
    "            if mol is None:\n",
    "                continue\n",
    "\n",
    "            xs = []\n",
    "            for atom in mol.GetAtoms():\n",
    "                x = []\n",
    "                x.append(x_map['atomic_num'].index(atom.GetAtomicNum()))\n",
    "                x.append(x_map['chirality'].index(str(atom.GetChiralTag())))\n",
    "                x.append(x_map['degree'].index(atom.GetTotalDegree()))\n",
    "                x.append(x_map['formal_charge'].index(atom.GetFormalCharge()))\n",
    "                x.append(x_map['num_hs'].index(atom.GetTotalNumHs()))\n",
    "                x.append(x_map['num_radical_electrons'].index(\n",
    "                    atom.GetNumRadicalElectrons()))\n",
    "                x.append(x_map['hybridization'].index(\n",
    "                    str(atom.GetHybridization())))\n",
    "                x.append(x_map['is_aromatic'].index(atom.GetIsAromatic()))\n",
    "                x.append(x_map['is_in_ring'].index(atom.IsInRing()))\n",
    "                xs.append(x)\n",
    "\n",
    "            x = torch.tensor(xs, dtype=torch.long).view(-1, 9)\n",
    "\n",
    "            edge_indices, edge_attrs = [], []\n",
    "            for bond in mol.GetBonds():\n",
    "                i = bond.GetBeginAtomIdx()\n",
    "                j = bond.GetEndAtomIdx()\n",
    "\n",
    "                e = []\n",
    "                e.append(e_map['bond_type'].index(str(bond.GetBondType())))\n",
    "                e.append(e_map['stereo'].index(str(bond.GetStereo())))\n",
    "                e.append(e_map['is_conjugated'].index(bond.GetIsConjugated()))\n",
    "\n",
    "                edge_indices += [[i, j], [j, i]]\n",
    "                edge_attrs += [e, e]\n",
    "\n",
    "            edge_index = torch.tensor(edge_indices)\n",
    "            edge_index = edge_index.t().to(torch.long).view(2, -1)\n",
    "            edge_attr = torch.tensor(edge_attrs, dtype=torch.long).view(-1, 3)\n",
    "\n",
    "            # Sort indices.\n",
    "            if edge_index.numel() > 0:\n",
    "                perm = (edge_index[0] * x.size(0) + edge_index[1]).argsort()\n",
    "                edge_index, edge_attr = edge_index[:, perm], edge_attr[perm]\n",
    "\n",
    "            data = Data(x=x, edge_index=edge_index, edge_attr=edge_attr, y=y,\n",
    "                        smiles=smiles)\n",
    "\n",
    "            if self.pre_filter is not None and not self.pre_filter(data):\n",
    "                continue\n",
    "\n",
    "            if self.pre_transform is not None:\n",
    "                data = self.pre_transform(data)\n",
    "\n",
    "            data_list.append(data)\n",
    "\n",
    "        torch.save(self.collate(data_list), self.processed_paths[0])\n",
    "\n",
    "    def __repr__(self):\n",
    "        return '{}({})'.format(self.names[self.name][0], len(self))\n"
   ]
  },
  {
   "cell_type": "code",
   "execution_count": 29,
   "metadata": {},
   "outputs": [],
   "source": [
    "# # Install required packages.\n",
    "# !pip install -q torch-scatter -f https://pytorch-geometric.com/whl/torch-1.7.0+cu101.html\n",
    "# !pip install -q torch-sparse -f https://pytorch-geometric.com/whl/torch-1.7.0+cu101.html\n",
    "# !pip install -q torch-geometric"
   ]
  },
  {
   "cell_type": "code",
   "execution_count": 32,
   "metadata": {},
   "outputs": [],
   "source": [
    "dataset=MoleculeNet(root='./',name='lipo')\n",
    "dataset.process()"
   ]
  },
  {
   "cell_type": "code",
   "execution_count": 33,
   "metadata": {},
   "outputs": [
    {
     "output_type": "stream",
     "name": "stdout",
     "text": [
      "\nDataset: Train(3828):\n====================\nNumber of graphs: 3828\nNumber of features: 9\nNumber of classes: 1\n\nData(edge_attr=[70, 3], edge_index=[2, 70], smiles=\"Cc1n[nH]c2c(C)cc(C(=O)N3CCC4(CC3)Cc3cn(C(C)C)nc3C(=O)N4)cc12\", x=[31, 9], y=[1, 1])\n=============================================================\nNumber of nodes: 31\nNumber of edges: 70\nAverage node degree: 2.26\nContains isolated nodes: False\nContains self-loops: False\nIs undirected: True\n"
     ]
    }
   ],
   "source": [
    "print()\n",
    "print(f'Dataset: {dataset}:')\n",
    "print('====================')\n",
    "print(f'Number of graphs: {len(dataset)}')\n",
    "print(f'Number of features: {dataset.num_features}')\n",
    "print(f'Number of classes: {dataset.num_classes}')\n",
    "\n",
    "data = dataset[14]  # Get the first graph object.\n",
    "\n",
    "print()\n",
    "print(data)\n",
    "print('=============================================================')\n",
    "\n",
    "# Gather some statistics about the first graph.\n",
    "print(f'Number of nodes: {data.num_nodes}')\n",
    "print(f'Number of edges: {data.num_edges}')\n",
    "print(f'Average node degree: {data.num_edges / data.num_nodes:.2f}')\n",
    "print(f'Contains isolated nodes: {data.contains_isolated_nodes()}')\n",
    "print(f'Contains self-loops: {data.contains_self_loops()}')\n",
    "print(f'Is undirected: {data.is_undirected()}')"
   ]
  },
  {
   "cell_type": "code",
   "execution_count": null,
   "metadata": {},
   "outputs": [],
   "source": [
    "torch.manual_seed(12345)\n",
    "dataset = dataset.shuffle()\n",
    "\n",
    "train_dataset = dataset[:3000]\n",
    "test_dataset = dataset[3000:]\n",
    "\n",
    "print(f'Number of training graphs: {len(train_dataset)}')\n",
    "print(f'Number of test graphs: {len(test_dataset)}')"
   ]
  },
  {
   "cell_type": "code",
   "execution_count": null,
   "metadata": {},
   "outputs": [],
   "source": [
    "from torch_geometric.data import DataLoader\n",
    "\n",
    "train_loader = DataLoader(train_dataset, batch_size=64, shuffle=True)\n",
    "test_loader = DataLoader(test_dataset, batch_size=64, shuffle=False)\n",
    "\n",
    "for step, data in enumerate(train_loader):\n",
    "    print(f'Step {step + 1}:')\n",
    "    print('=======')\n",
    "    print(f'Number of graphs in the current batch: {data.num_graphs}')\n",
    "    print(data)\n",
    "    print()"
   ]
  },
  {
   "cell_type": "code",
   "execution_count": null,
   "metadata": {},
   "outputs": [],
   "source": [
    "from torch.nn import Linear\n",
    "import torch.nn.functional as F\n",
    "from torch_geometric.nn import GCNConv\n",
    "from torch_geometric.nn import global_mean_pool\n",
    "\n",
    "class AtomEncoder(torch.nn.Module):\n",
    "    def __init__(self, hidden_channels):\n",
    "        super(AtomEncoder, self).__init__()\n",
    "\n",
    "        self.embeddings = torch.nn.ModuleList()\n",
    "\n",
    "        for i in range(9):\n",
    "            self.embeddings.append(torch.nn.Embedding(100, hidden_channels))\n",
    "\n",
    "    def reset_parameters(self):\n",
    "        for embedding in self.embeddings:\n",
    "            embedding.reset_parameters()\n",
    "\n",
    "    def forward(self, x):\n",
    "        if x.dim() == 1:\n",
    "            x = x.unsqueeze(1)\n",
    "\n",
    "        out = 0\n",
    "        for i in range(x.size(1)):\n",
    "            out += self.embeddings[i](x[:, i])\n",
    "        return out\n",
    "\n",
    "class GCN(torch.nn.Module):\n",
    "    def __init__(self, hidden_channels):\n",
    "        super(GCN, self).__init__()\n",
    "        torch.manual_seed(12345)\n",
    "        self.emb = AtomEncoder(dataset.num_node_features)\n",
    "        self.conv1 = GCNConv(dataset.num_node_features, hidden_channels)\n",
    "        self.conv2 = GCNConv(hidden_channels, hidden_channels)\n",
    "        self.conv3 = GCNConv(hidden_channels, hidden_channels)\n",
    "        self.lin = Linear(hidden_channels, dataset.num_classes)\n",
    "\n",
    "    def forward(self, x, edge_index, batch):\n",
    "        # 1. Obtain node embeddings \n",
    "        x = self.emb(x)\n",
    "        x = self.conv1(x, edge_index)\n",
    "        x = x.relu()\n",
    "        x = self.conv2(x, edge_index)\n",
    "        x = x.relu()\n",
    "        x = self.conv3(x, edge_index)\n",
    "\n",
    "        # 2. Readout layer\n",
    "        x = global_mean_pool(x, batch)  # [batch_size, hidden_channels]\n",
    "\n",
    "        # 3. Apply a final classifier\n",
    "        x = F.dropout(x, p=0.5, training=self.training)\n",
    "        x = self.lin(x)\n",
    "        \n",
    "        return x\n",
    "\n",
    "model = GCN(hidden_channels=64)\n",
    "print(model)"
   ]
  },
  {
   "cell_type": "code",
   "execution_count": null,
   "metadata": {
    "tags": []
   },
   "outputs": [],
   "source": [
    "from IPython.display import Javascript\n",
    "\n",
    "model = GCN(hidden_channels=64)\n",
    "optimizer = torch.optim.Adam(model.parameters(), lr=0.01)\n",
    "criterion = torch.nn.L1Loss()\n",
    "\n",
    "def train():\n",
    "    model.train()\n",
    "\n",
    "    for data in train_loader:  # Iterate in batches over the training dataset.\n",
    "         out = model(data.x, data.edge_index, data.batch)  # Perform a single forward pass.\n",
    "         loss = criterion(out, data.y)  # Compute the loss.\n",
    "         loss.backward()  # Derive gradients.\n",
    "         optimizer.step()  # Update parameters based on gradients.\n",
    "         optimizer.zero_grad()  # Clear gradients.\n",
    "\n",
    "         print(loss)\n",
    "\n",
    "def test(loader):\n",
    "     model.eval()\n",
    "\n",
    "     correct = 0\n",
    "     for data in loader:  # Iterate in batches over the training/test dataset.\n",
    "         out = model(data.x, data.edge_index, data.batch)  \n",
    "         pred = out.argmax(dim=1)  # Use the class with highest probability.\n",
    "         correct += int((pred == data.y).sum())  # Check against ground-truth labels.\n",
    "     return correct / len(loader.dataset)  # Derive ratio of correct predictions.\n",
    "\n",
    "\n",
    "for epoch in range(1, 201):\n",
    "    train()\n",
    "    train_acc = test(train_loader)\n",
    "    test_acc = test(test_loader)\n",
    "    # print(f'Epoch: {epoch:03d}, Train Acc: {train_acc:.4f}, Test Acc: {test_acc:.4f}')"
   ]
  },
  {
   "cell_type": "code",
   "execution_count": null,
   "metadata": {},
   "outputs": [],
   "source": []
  },
  {
   "cell_type": "code",
   "execution_count": null,
   "metadata": {},
   "outputs": [],
   "source": []
  }
 ]
}